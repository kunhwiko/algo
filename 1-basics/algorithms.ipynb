{
  "nbformat": 4,
  "nbformat_minor": 0,
  "metadata": {
    "colab": {
      "name": "algorithms.ipynb",
      "provenance": [],
      "collapsed_sections": [],
      "toc_visible": true
    },
    "kernelspec": {
      "display_name": "Python 3",
      "name": "python3"
    }
  },
  "cells": [
    {
      "cell_type": "markdown",
      "metadata": {
        "id": "1nB7IkEB4pv3"
      },
      "source": [
        "# Algorithms "
      ]
    },
    {
      "cell_type": "markdown",
      "metadata": {
        "id": "dxk-fLkE5oYz"
      },
      "source": [
        "## Part 1: What are algorithms?"
      ]
    },
    {
      "cell_type": "markdown",
      "metadata": {
        "id": "PQtbT_2B6Ga6"
      },
      "source": [
        "**Everyone talks about algorithms, but what are they exactly?** \n",
        "\n",
        "Algorithms are a process or procedure for a problem given certain inputs and constraints. Results for an algorithm should be reproduceable for the same inputs and steps. \n",
        "\n",
        "<br />\n",
        "\n",
        "**What are priorities in algorithms?**\n",
        "\n",
        "The most important thing is that algorithms should be CORRECT, and then they should be EFFICIENT."
      ]
    },
    {
      "cell_type": "markdown",
      "metadata": {
        "id": "4iM_l6xO6WT8"
      },
      "source": [
        "## Part 2: Big O Notation "
      ]
    },
    {
      "cell_type": "markdown",
      "metadata": {
        "id": "em_6zskn7CvF"
      },
      "source": [
        "### 2.1 Big O Notation\n",
        "\n",
        "O(g(n)) tells us the \"upper bound\" of an algorithm's complexity. In other words, it tells us our function is \"growing no faster than ...\".\n"
      ]
    },
    {
      "cell_type": "markdown",
      "metadata": {
        "id": "3TAyekAU8dFu"
      },
      "source": [
        "### 2.2 Big Omega Notation \n",
        "\n",
        "Ω(g(n)) tells us the \"lower bound\" of an algorithm's complexity. In other words, it tells us our function is \"growing at least as fast as ...\""
      ]
    },
    {
      "cell_type": "markdown",
      "metadata": {
        "id": "zMcZEEue8hCY"
      },
      "source": [
        "### 2.3 Big Theta Notation \n",
        "\n",
        "Θ(g(n)) happens only when our function is both O(g(n)) and Ω(g(n)). This is actually the closer description of complexity that we use in coding interviews. "
      ]
    },
    {
      "cell_type": "markdown",
      "metadata": {
        "id": "aJLenZk58kKw"
      },
      "source": [
        "## Part 3: Recurrence and Master Theorem"
      ]
    },
    {
      "cell_type": "markdown",
      "metadata": {
        "id": "NPW0eclB9LM4"
      },
      "source": [
        "### 3.1 Recurrence"
      ]
    },
    {
      "cell_type": "markdown",
      "metadata": {
        "id": "XA4UdER8FUpx"
      },
      "source": [
        "For our example, let's take a look at the recurrence for a recursive max function. \n"
      ]
    },
    {
      "cell_type": "markdown",
      "metadata": {
        "id": "Zh6MhNppECHS"
      },
      "source": [
        "**Base Case:** \n",
        "\n",
        "if len(arr) == 1: \n",
        "\n",
        "&nbsp;&nbsp;&nbsp;&nbsp; return arr[0]\n",
        "\n",
        "<br />\n",
        "\n",
        "**Recursion**\n",
        "\n",
        "return max(arr[0], f(arr[1:]))\n",
        "\n",
        "\n",
        "\n"
      ]
    },
    {
      "cell_type": "markdown",
      "metadata": {
        "id": "C6DtFVRiH1AF"
      },
      "source": [
        ""
      ]
    }
  ]
}