{
  "nbformat": 4,
  "nbformat_minor": 0,
  "metadata": {
    "colab": {
      "name": "algorithms.ipynb",
      "provenance": [],
      "collapsed_sections": [],
      "toc_visible": true
    },
    "kernelspec": {
      "display_name": "Python 3",
      "name": "python3"
    }
  },
  "cells": [
    {
      "cell_type": "markdown",
      "metadata": {
        "id": "1nB7IkEB4pv3"
      },
      "source": [
        "# Algorithms "
      ]
    },
    {
      "cell_type": "markdown",
      "metadata": {
        "id": "dxk-fLkE5oYz"
      },
      "source": [
        "## Part 1: What are algorithms?"
      ]
    },
    {
      "cell_type": "markdown",
      "metadata": {
        "id": "PQtbT_2B6Ga6"
      },
      "source": [
        "**Everyone talks about algorithms, but what are they exactly?** \n",
        "\n",
        "Algorithms are a process or procedure for a problem given certain inputs and constraints. Results for an algorithm should be reproduceable for the same inputs and steps. \n",
        "\n",
        "<br />\n",
        "\n",
        "**What are priorities in algorithms?**\n",
        "\n",
        "The most important thing is that algorithms should be CORRECT, and then they should be EFFICIENT."
      ]
    },
    {
      "cell_type": "markdown",
      "metadata": {
        "id": "TN3vyB15Isy5"
      },
      "source": [
        "<br />\n",
        "<br />"
      ]
    },
    {
      "cell_type": "markdown",
      "metadata": {
        "id": "4iM_l6xO6WT8"
      },
      "source": [
        "## Part 2: Big O Notation "
      ]
    },
    {
      "cell_type": "markdown",
      "metadata": {
        "id": "em_6zskn7CvF"
      },
      "source": [
        "### 2.1 Big O Notation\n"
      ]
    },
    {
      "cell_type": "markdown",
      "metadata": {
        "id": "DKq0bqu7NF9B"
      },
      "source": [
        "O(g(n)) tells us the \"upper bound\" of an algorithm's complexity. In other words, it tells us our function is \"growing no faster than ...\"."
      ]
    },
    {
      "cell_type": "markdown",
      "metadata": {
        "id": "Qr1E4Y3TJIvD"
      },
      "source": [
        "<br />"
      ]
    },
    {
      "cell_type": "markdown",
      "metadata": {
        "id": "3TAyekAU8dFu"
      },
      "source": [
        "### 2.2 Big Omega Notation "
      ]
    },
    {
      "cell_type": "markdown",
      "metadata": {
        "id": "ws7F1iYENJa8"
      },
      "source": [
        "Ω(g(n)) tells us the \"lower bound\" of an algorithm's complexity. In other words, it tells us our function is \"growing at least as fast as ...\""
      ]
    },
    {
      "cell_type": "markdown",
      "metadata": {
        "id": "EXFTllwSJKjM"
      },
      "source": [
        "<br />"
      ]
    },
    {
      "cell_type": "markdown",
      "metadata": {
        "id": "zMcZEEue8hCY"
      },
      "source": [
        "### 2.3 Big Theta Notation "
      ]
    },
    {
      "cell_type": "markdown",
      "metadata": {
        "id": "MJsDsZZ2NLqK"
      },
      "source": [
        "Θ(g(n)) happens only when our function is both O(g(n)) and Ω(g(n)). This is actually the closer description of complexity that we use in coding interviews. "
      ]
    },
    {
      "cell_type": "markdown",
      "metadata": {
        "id": "0TZY1N37I2G0"
      },
      "source": [
        "<br />\n",
        "<br />"
      ]
    },
    {
      "cell_type": "markdown",
      "metadata": {
        "id": "aJLenZk58kKw"
      },
      "source": [
        "## Part 3: Recurrence and Master Theorem"
      ]
    },
    {
      "cell_type": "markdown",
      "metadata": {
        "id": "NPW0eclB9LM4"
      },
      "source": [
        "### 3.1 Recurrence"
      ]
    },
    {
      "cell_type": "markdown",
      "metadata": {
        "id": "XA4UdER8FUpx"
      },
      "source": [
        "For our example, let's take a look at the recurrence for a recursive max function. \n"
      ]
    },
    {
      "cell_type": "markdown",
      "metadata": {
        "id": "m_wkZHIxOII8"
      },
      "source": [
        "<br />"
      ]
    },
    {
      "cell_type": "markdown",
      "metadata": {
        "id": "Zh6MhNppECHS"
      },
      "source": [
        "**Pseudocode** \n",
        "\n",
        "if arr.length == 1: \n",
        "\n",
        "&nbsp;&nbsp;&nbsp;&nbsp; return arr[0]\n",
        "\n",
        "else: \n",
        "\n",
        "&nbsp;&nbsp;&nbsp;&nbsp; return max(arr[0], f(arr[1:]))\n",
        "\n",
        "<br />\n",
        "\n",
        "**Runtime**\n",
        "\n",
        "\\begin{align*}\n",
        "T(n) = \\begin{cases}\n",
        "T(n-1) + b &\\mbox{if } length > 1\\\\\n",
        "a &\\mbox{if } length = 1\n",
        "\\end{cases}\n",
        "\\end{align*}\n",
        "\n",
        "$\\therefore$ T(n) = T(n-1) + b = T(n-2) + 2b = a + b(n-1)\n",
        "\n",
        "$\\therefore$ O(n)\n",
        "\n",
        "\n",
        "\n"
      ]
    },
    {
      "cell_type": "markdown",
      "metadata": {
        "id": "-FvxLgGNOsZ4"
      },
      "source": [
        "<br />"
      ]
    },
    {
      "cell_type": "markdown",
      "metadata": {
        "id": "3EUFvX3FKzNV"
      },
      "source": [
        "### 3.2 Master Theorem "
      ]
    },
    {
      "cell_type": "markdown",
      "metadata": {
        "id": "FuyjPj8xP6cC"
      },
      "source": [
        "a: number of children each node has \n",
        "\n",
        "b: how much n is reduced in the next subproblem\n",
        "\n",
        "c: time complexity for each subproblem "
      ]
    },
    {
      "cell_type": "markdown",
      "metadata": {
        "id": "f92lSJKIL36j"
      },
      "source": [
        "\\begin{align*}\n",
        "T(n) = \\begin{cases}\n",
        "aT(n/b) + O(n^{c}) &\\mbox{if } a >= 1, b > 1\\\\\n",
        "O(1) &\\mbox{if } base case\n",
        "\\end{cases}\n",
        "\\end{align*}"
      ]
    },
    {
      "cell_type": "markdown",
      "metadata": {
        "id": "2j9aPSHZOZvj"
      },
      "source": [
        "if $log_{b}a < c$, then $O(n^c)$\n",
        "\n",
        "if $log_{b}a = c$, then $O(n^{c}logn)$\n",
        "\n",
        "if $log_{b}a > c$, then $O(n^{log_{b}a})$ \n",
        "\n"
      ]
    },
    {
      "cell_type": "markdown",
      "metadata": {
        "id": "4CcFLZlkQOc7"
      },
      "source": [
        "<br />"
      ]
    },
    {
      "cell_type": "markdown",
      "metadata": {
        "id": "2cuqbdqKQDG6"
      },
      "source": [
        "### 3.3 Binary Search "
      ]
    },
    {
      "cell_type": "markdown",
      "metadata": {
        "id": "afp4TWnmV4dj"
      },
      "source": [
        "**Explanation**\n",
        "\n",
        "Binary Search is used to find an element in a \"sorted\" array in a manner that is more efficient than linear search. \n",
        "\n",
        "<br />\n",
        "\n",
        "**Assumption**\n",
        "\n",
        "The array \"must\" be sorted.\n",
        "\n",
        "<br />\n",
        "\n",
        "**Pseudocode** \n",
        "\n",
        "if arr.length = 0: \n",
        "\n",
        "&nbsp;&nbsp;&nbsp;&nbsp; return False \n",
        "\n",
        "if arr[mid] == target: \n",
        "\n",
        "&nbsp;&nbsp;&nbsp;&nbsp; return True\n",
        "\n",
        "if arr[mid] > target:\n",
        "\n",
        "&nbsp;&nbsp;&nbsp;&nbsp; binarysearch(arr[:mid], target)\n",
        "\n",
        "if arr[mid] < target:\n",
        "\n",
        "&nbsp;&nbsp;&nbsp;&nbsp; binarysearch(arr[mid+1:], target)\n",
        "\n",
        "<br />\n",
        "\n",
        "**Runtime**\n",
        "\n",
        "\\begin{align*}\n",
        "T(n) = \\begin{cases}\n",
        "O(1) &\\mbox{if } arr[mid] = target\\\\\n",
        "O(1) &\\mbox{if } arr.length = 0\\\\\n",
        "T(n/2) + c\n",
        "\\end{cases}\n",
        "\\end{align*}\n",
        "\n",
        "$\\therefore$ Master Theorem: a=1, b=2, c=0\n",
        "\n",
        "$\\therefore$ O(logn)"
      ]
    },
    {
      "cell_type": "markdown",
      "metadata": {
        "id": "uzIJttgVRxP8"
      },
      "source": [
        "<br />"
      ]
    },
    {
      "cell_type": "code",
      "metadata": {
        "id": "_WL-cPizRzLq"
      },
      "source": [
        "def recursive_binary_search(nums, target):\n",
        "  if len(nums) == 0:\n",
        "    return False \n",
        "\n",
        "  mid = len(nums)//2 \n",
        "\n",
        "  if nums[mid] == target:\n",
        "    return True\n",
        "  elif nums[mid] > target:\n",
        "    return recursive_binary_search(nums[:mid], target)\n",
        "  else:\n",
        "    return recursive_binary_search(nums[mid+1:], target)\n",
        "  "
      ],
      "execution_count": null,
      "outputs": []
    },
    {
      "cell_type": "code",
      "metadata": {
        "id": "e8ihWvvcSmWb"
      },
      "source": [
        "def iterative_binary_search(nums, target):\n",
        "  l, r = 0, len(nums)-1\n",
        "\n",
        "  while l <= r:\n",
        "    mid = (l+r)//2 \n",
        "    if nums[mid] == target:\n",
        "      return True \n",
        "    elif nums[mid] < target:\n",
        "      l = mid + 1\n",
        "    else:\n",
        "      r = mid - 1\n",
        "  return False\n"
      ],
      "execution_count": null,
      "outputs": []
    }
  ]
}