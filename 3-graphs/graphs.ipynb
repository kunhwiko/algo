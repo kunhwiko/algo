{
  "nbformat": 4,
  "nbformat_minor": 0,
  "metadata": {
    "colab": {
      "name": "graphs.ipynb",
      "provenance": [],
      "collapsed_sections": [],
      "toc_visible": true
    },
    "kernelspec": {
      "display_name": "Python 3",
      "name": "python3"
    }
  },
  "cells": [
    {
      "cell_type": "markdown",
      "metadata": {
        "id": "ey_rnFPuDM6y"
      },
      "source": [
        "# Graphs\n",
        "\n",
        "The notebook for graphs is broken into 2 parts.\n",
        "\n",
        "In this section, we discuss \n",
        "\n",
        "* Graph Theory \n",
        "\n",
        "* Directed Acyclic Graphs \n",
        "\n",
        "* Topological Sort \n",
        "\n",
        "* Shortest Path \n",
        "\n",
        "* BFS / DFS "
      ]
    },
    {
      "cell_type": "markdown",
      "metadata": {
        "id": "FliZV-T8D8Ib"
      },
      "source": [
        "## Part 1: Graph Theory "
      ]
    },
    {
      "cell_type": "markdown",
      "metadata": {
        "id": "M70fDk9QECMz"
      },
      "source": [
        "### 1.1 Adjacency Matrices vs Lists "
      ]
    },
    {
      "cell_type": "markdown",
      "metadata": {
        "id": "qGcFIIzQEHtA"
      },
      "source": [
        "Comparing space complexity: \n",
        "\n",
        "1) adjacency matrices: $O(V^2)$\n",
        "\n",
        "2) adjacency lists: $O(V+E)$\n",
        "\n",
        "<br />\n",
        "\n",
        "Use cases:\n",
        "\n",
        "1) dense graphs --> matrices \n",
        "\n",
        "2) sparse graphs --> lists \n",
        "\n",
        "<br />\n",
        "\n",
        "Dealing with time complexity:\n",
        "\n",
        "for each v in V:\n",
        "\n",
        "&nbsp;&nbsp;&nbsp;&nbsp;for each u in adj(v):\n",
        "\n",
        "&nbsp;&nbsp;&nbsp;&nbsp;&nbsp;&nbsp;&nbsp;&nbsp;O(1) operation\n",
        "\n",
        "$\\therefore$ time: $O(V+E)$\n",
        "\n",
        "<br />\n",
        "\n",
        "for each v in V:\n",
        "\n",
        "&nbsp;&nbsp;&nbsp;&nbsp;for each e in E:\n",
        "\n",
        "&nbsp;&nbsp;&nbsp;&nbsp;&nbsp;&nbsp;&nbsp;&nbsp;O(1) operation\n",
        "\n",
        "$\\therefore$ time: $O(VE)$"
      ]
    },
    {
      "cell_type": "markdown",
      "metadata": {
        "id": "xGrp8Ct3FQGU"
      },
      "source": [
        "<br />\n",
        "<br />"
      ]
    },
    {
      "cell_type": "markdown",
      "metadata": {
        "id": "pakLVVk3FRKT"
      },
      "source": [
        "## Part 2: Directed Acyclic Graphs"
      ]
    },
    {
      "cell_type": "markdown",
      "metadata": {
        "id": "SWk2aeBAgzHw"
      },
      "source": [
        "### 2.1 Comparision with Trees"
      ]
    },
    {
      "cell_type": "markdown",
      "metadata": {
        "id": "memqLNKEg6kX"
      },
      "source": [
        "Trees are \"undirected\", \"connected\", \"acyclic\" graphs. Note how that is different from DAGs. "
      ]
    },
    {
      "cell_type": "markdown",
      "metadata": {
        "id": "H6gS64VihEXK"
      },
      "source": [
        "<br />"
      ]
    },
    {
      "cell_type": "markdown",
      "metadata": {
        "id": "9WAN0OWwhKBE"
      },
      "source": [
        "### 2.2 Topological Sort "
      ]
    },
    {
      "cell_type": "markdown",
      "metadata": {
        "id": "yXWbrz8VhUEm"
      },
      "source": [
        "**Explanation**\n",
        "\n",
        "The process of ordering vertices such that when $v_{i}$ is directed to $v_{j}$, $v_{i}$ will come before $v_{j}$ in the ordering. \n",
        "\n",
        "<br />\n",
        "\n",
        "**Assumption**\n",
        "\n",
        "The graph is a directed acyclic graph.\n",
        "\n",
        "<br />\n",
        "\n",
        "**Pseudocode**\n",
        "\n",
        "next: queue of zero in-degree vertices \n",
        "\n",
        "topsort: our results to return \n",
        "\n",
        "indegrees: a map mapping all vertices to their in-degrees \n",
        "\n",
        "assume our graph is represented as an adjacency list\n",
        "\n",
        "<br />\n",
        "\n",
        "populate indegrees in $O(V+E)$\n",
        "\n",
        "populate next using indegrees in $O(V)$\n",
        "\n",
        "while next is not empty:\n",
        "\n",
        "&nbsp;&nbsp;&nbsp;&nbsp;v = dequeue(next)\n",
        "\n",
        "&nbsp;&nbsp;&nbsp;&nbsp;topsort.add(v)\n",
        "\n",
        "&nbsp;&nbsp;&nbsp;&nbsp;for u in adj(v):\n",
        "\n",
        "&nbsp;&nbsp;&nbsp;&nbsp;&nbsp;&nbsp;&nbsp;&nbsp;indegree[u]--\n",
        "\n",
        "&nbsp;&nbsp;&nbsp;&nbsp;&nbsp;&nbsp;&nbsp;&nbsp;if indegree[u] == 0:\n",
        "\n",
        "&nbsp;&nbsp;&nbsp;&nbsp;&nbsp;&nbsp;&nbsp;&nbsp;&nbsp;&nbsp;&nbsp;&nbsp;next.enqueue(u)\n",
        "\n",
        "return topsort \n",
        "\n",
        "<br />\n",
        "\n",
        "**Runtime**\n",
        "\n",
        "time: $O(V+E)$ &nbsp;&nbsp; space: $O(V+E)$"
      ]
    },
    {
      "cell_type": "markdown",
      "metadata": {
        "id": "HjTICzjki7tI"
      },
      "source": [
        "<br />"
      ]
    },
    {
      "cell_type": "code",
      "metadata": {
        "id": "e5FvfgV_i824"
      },
      "source": [
        "from collections import deque \n",
        "\n",
        "# for simplicity, assume graph is given as pairs [[node1, node2], [node1, node3]]\n",
        "# where for [X, Y], node X --> node Y  \n",
        "def topological_sort(graph):\n",
        "  next = deque()\n",
        "  topsort = []\n",
        "  indegrees = {}\n",
        "  adjacent = {}\n",
        "\n",
        "  for pair in graph:\n",
        "    # populate indegrees\n",
        "    if pair[0] not in indegrees:\n",
        "      indegrees[pair[0]] = 0 \n",
        "    indegrees[pair[1]] = indegrees.get(pair[1], 0) + 1\n",
        "\n",
        "    # populate adjacent \n",
        "    if pair[1] not in adjacent:\n",
        "        adjacent[pair[1]] = []\n",
        "    if pair[0] not in adjacent:\n",
        "      adjacent[pair[0]] = [pair[1]]\n",
        "    else:\n",
        "      adjacent[pair[0]].append(pair[1])\n",
        "\n",
        "  # populate next \n",
        "  for key in indegrees.keys():\n",
        "    if indegrees[key] == 0:\n",
        "      next.append(key)\n",
        "  \n",
        "  while next:\n",
        "    v = next.popleft()\n",
        "    topsort.append(v)\n",
        "    for u in adjacent[v]:\n",
        "      indegrees[u] -= 1\n",
        "      if indegrees[u] == 0:\n",
        "        next.append(u)\n",
        "  \n",
        "  return topsort "
      ],
      "execution_count": 1,
      "outputs": []
    }
  ]
}