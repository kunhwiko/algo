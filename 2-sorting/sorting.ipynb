{
  "nbformat": 4,
  "nbformat_minor": 0,
  "metadata": {
    "colab": {
      "name": "sorting.ipynb",
      "provenance": [],
      "collapsed_sections": [],
      "toc_visible": true
    },
    "kernelspec": {
      "display_name": "Python 3",
      "name": "python3"
    }
  },
  "cells": [
    {
      "cell_type": "markdown",
      "metadata": {
        "id": "1nB7IkEB4pv3"
      },
      "source": [
        "# Sorting Algorithms \n",
        "\n",
        "All visualizations can be accessed through: \n",
        "\n",
        "https://visualgo.net/en/sorting\n",
        "\n",
        "The algorithms discussed in this section are: \n",
        "\n",
        "* Bubble Sort\n",
        "* Selection Sort\n",
        "* Insertion Sort \n",
        "* Merge Sort \n",
        "* Quick Sort / Quick Select \n",
        "* Counting Sort\n",
        "* Radix Sort \n",
        "* Bucket Sort "
      ]
    },
    {
      "cell_type": "markdown",
      "metadata": {
        "id": "dxk-fLkE5oYz"
      },
      "source": [
        "## Part 1: Naive Sorting Algorithms "
      ]
    },
    {
      "cell_type": "markdown",
      "metadata": {
        "id": "_kWIfNn0M4jK"
      },
      "source": [
        "### 1.1 Bubble Sort "
      ]
    },
    {
      "cell_type": "markdown",
      "metadata": {
        "id": "RZ6xF85NM9GS"
      },
      "source": [
        "**Explanation**\n",
        "\n",
        "Repeatedly swaps adjacent elements if they are in the wrong order. Sends the largest elements to the end. \n",
        "\n",
        "<br />\n",
        "\n",
        "**Pseudocode** \n",
        "\n",
        "for i --> 0 to n-2 \n",
        "\n",
        "&nbsp;&nbsp;&nbsp;&nbsp; for j --> 0 to n-2-i\n",
        "\n",
        "&nbsp;&nbsp;&nbsp;&nbsp;&nbsp;&nbsp;&nbsp;&nbsp; if arr[j] > arr[j+1]\n",
        "\n",
        "&nbsp;&nbsp;&nbsp;&nbsp;&nbsp;&nbsp;&nbsp;&nbsp;&nbsp;&nbsp;&nbsp;&nbsp;swap(arr[j], arr[j+1])\n",
        "\n",
        "<br />\n",
        "\n",
        "**Runtime**\n",
        "\n",
        "time: $O(n^2)$ &nbsp;&nbsp; space: $O(1)$\n"
      ]
    },
    {
      "cell_type": "markdown",
      "metadata": {
        "id": "2kerBPcGPcn6"
      },
      "source": [
        "<br />"
      ]
    },
    {
      "cell_type": "code",
      "metadata": {
        "id": "BtcdboTpPdmm"
      },
      "source": [
        "def bubble_sort(nums):\n",
        "  for i in range(len(nums)-1):\n",
        "    for j in range(len(nums)-1-i):\n",
        "      if nums[j] > nums[j+1]:\n",
        "        nums[j], nums[j+1] = nums[j+1], nums[j]"
      ],
      "execution_count": null,
      "outputs": []
    },
    {
      "cell_type": "markdown",
      "metadata": {
        "id": "P05T0yrESmTM"
      },
      "source": [
        "<br />"
      ]
    },
    {
      "cell_type": "markdown",
      "metadata": {
        "id": "g7l0WC6uSn9b"
      },
      "source": [
        "### 1.2 Selection Sort "
      ]
    },
    {
      "cell_type": "markdown",
      "metadata": {
        "id": "xCSdlzgVUs0j"
      },
      "source": [
        "**Explanation**\n",
        "\n",
        "Repeatedly finds the min (or max) value of an array and swaps orders.\n",
        "\n",
        "<br />\n",
        "\n",
        "**Pseudocode**\n",
        "\n",
        "for i --> 0 to n-2 \n",
        "\n",
        "&nbsp;&nbsp;&nbsp;&nbsp; index = index of min element in arr[i:]\n",
        "\n",
        "&nbsp;&nbsp;&nbsp;&nbsp; swap(arr[i], arr[index])\n",
        "\n",
        "<br />\n",
        "\n",
        "**Runtime**\n",
        "\n",
        "time: $O(n^2)$ &nbsp;&nbsp; space: $O(1)$"
      ]
    },
    {
      "cell_type": "markdown",
      "metadata": {
        "id": "RVbiYQ6GViCX"
      },
      "source": [
        "<br />"
      ]
    },
    {
      "cell_type": "code",
      "metadata": {
        "id": "BWAeMtXwVi9s"
      },
      "source": [
        "def selection_sort(nums):\n",
        "  for i in range(len(nums)-1):\n",
        "    index = i\n",
        "    for j in range(i, len(nums)):\n",
        "      if nums[j] < nums[index]:\n",
        "        index = j \n",
        "    nums[i], nums[index] = nums[index], nums[i]\n"
      ],
      "execution_count": null,
      "outputs": []
    },
    {
      "cell_type": "markdown",
      "metadata": {
        "id": "a7YEC6wcW4A0"
      },
      "source": [
        "<br />"
      ]
    },
    {
      "cell_type": "markdown",
      "metadata": {
        "id": "tqnn4ziCW5PM"
      },
      "source": [
        "### 1.3 Insertion Sort "
      ]
    },
    {
      "cell_type": "markdown",
      "metadata": {
        "id": "PkpS-2vzW9p7"
      },
      "source": [
        "**Explanation**\n",
        "\n",
        "Repeatedly inserts an element to its rightful position within a given subarray.\n",
        "\n",
        "<br />\n",
        "\n",
        "**Pseudocode**\n",
        "\n",
        "for i --> 1 to n-1 \n",
        "\n",
        "&nbsp;&nbsp;&nbsp;&nbsp; key = arr[i]; j = i-1\n",
        "\n",
        "&nbsp;&nbsp;&nbsp;&nbsp; while j >= 0 and key < arr[j]\n",
        "\n",
        "&nbsp;&nbsp;&nbsp;&nbsp;&nbsp;&nbsp;&nbsp;&nbsp; arr[j+1] = arr[j]\n",
        "\n",
        "&nbsp;&nbsp;&nbsp;&nbsp;&nbsp;&nbsp;&nbsp;&nbsp;\n",
        "j--\n",
        "\n",
        "&nbsp;&nbsp;&nbsp;&nbsp;arr[j+1] = key \n",
        "\n",
        "<br />\n",
        "\n",
        "**Runtime**\n",
        "\n",
        "average time: $O(n^2)$, best time: $O(n)$ &nbsp;&nbsp; space: $O(1)$"
      ]
    },
    {
      "cell_type": "markdown",
      "metadata": {
        "id": "zbAUp6wnd_Kf"
      },
      "source": [
        "<br />"
      ]
    },
    {
      "cell_type": "code",
      "metadata": {
        "id": "8btiy2LIeAJW"
      },
      "source": [
        "def insertion_sort(nums):\n",
        "  for i in range(1, len(nums)):\n",
        "    key = nums[i]; j = i-1 \n",
        "    while j >= 0 and key < nums[j]:\n",
        "      nums[j+1] = nums[j]\n",
        "      j -= 1\n",
        "    nums[j+1] = key \n"
      ],
      "execution_count": null,
      "outputs": []
    },
    {
      "cell_type": "markdown",
      "metadata": {
        "id": "Q17aMXZufegu"
      },
      "source": [
        "<br />\n",
        "<br />"
      ]
    },
    {
      "cell_type": "markdown",
      "metadata": {
        "id": "KpabSGWapY7A"
      },
      "source": [
        "## Part 2: Efficient Sorting Algorithms "
      ]
    },
    {
      "cell_type": "markdown",
      "metadata": {
        "id": "EBNJk95cphZ3"
      },
      "source": [
        "### 2.1 Merge Sort "
      ]
    },
    {
      "cell_type": "markdown",
      "metadata": {
        "id": "5N_rBKOtpjQ7"
      },
      "source": [
        "**Explanation**\n",
        "\n",
        "Recursively break arrays into half, then start merging them in sorted order. \n",
        "\n",
        "<br />\n",
        "\n",
        "**Pseudocode**\n",
        "\n",
        "mergesort(arr):\n",
        "\n",
        "&nbsp;&nbsp;&nbsp;&nbsp;if arr.length == 1:\n",
        "\n",
        "&nbsp;&nbsp;&nbsp;&nbsp;&nbsp;&nbsp;&nbsp;&nbsp;return\n",
        "\n",
        "&nbsp;&nbsp;&nbsp;&nbsp;mergesort(first half)\n",
        "\n",
        "&nbsp;&nbsp;&nbsp;&nbsp;mergesort(second half)\n",
        "\n",
        "&nbsp;&nbsp;&nbsp;&nbsp;merge(first half, second half)\n",
        "\n",
        "<br />\n",
        "\n",
        "merge(arr1, arr2):\n",
        "\n",
        "&nbsp;&nbsp;&nbsp;&nbsp;initialize arr with length arr1 + arr2 \n",
        "\n",
        "&nbsp;&nbsp;&nbsp;&nbsp;ptr = ptr1 = ptr2 = 0\n",
        "\n",
        "&nbsp;&nbsp;&nbsp;&nbsp;while ptr1 < arr1.length and ptr2 < arr2.length\n",
        "\n",
        "&nbsp;&nbsp;&nbsp;&nbsp;&nbsp;&nbsp;&nbsp;&nbsp; if arr1[ptr1] < arr2[ptr2]:\n",
        "\n",
        "&nbsp;&nbsp;&nbsp;&nbsp;&nbsp;&nbsp;&nbsp;&nbsp;&nbsp;&nbsp;&nbsp;&nbsp; arr[ptr] = arr1[ptr1]; ptr1++ \n",
        "\n",
        "&nbsp;&nbsp;&nbsp;&nbsp;&nbsp;&nbsp;&nbsp;&nbsp; else\n",
        "\n",
        "&nbsp;&nbsp;&nbsp;&nbsp;&nbsp;&nbsp;&nbsp;&nbsp;&nbsp;&nbsp;&nbsp;&nbsp; arr[ptr] = arr1[ptr2]; ptr2++ \n",
        "\n",
        "&nbsp;&nbsp;&nbsp;&nbsp;&nbsp;&nbsp;&nbsp;&nbsp; ptr++\n",
        "\n",
        "&nbsp;&nbsp;&nbsp;&nbsp;fill in remainder of arr \n",
        "\n",
        "<br />\n",
        "\n",
        "**Runtime**\n",
        "\n",
        "\\begin{align*}\n",
        "T(n) = \\begin{cases}\n",
        "2T(n/2) + O(n) \\\\\n",
        "O(1) &\\mbox length=1\\\\\n",
        "\\end{cases}\n",
        "\\end{align*}\n",
        "\n",
        "time: O(nlogn) &nbsp;&nbsp; space: O(n)\n",
        "\n",
        "\n",
        "\n",
        "\n",
        "\n",
        "\n"
      ]
    },
    {
      "cell_type": "markdown",
      "metadata": {
        "id": "dObwPWjNsBtS"
      },
      "source": [
        "<br />"
      ]
    },
    {
      "cell_type": "code",
      "metadata": {
        "id": "6epR99NnsHe1"
      },
      "source": [
        "def merge_sort(arr, l, r):\n",
        "  if l < r:\n",
        "    mid = (l + r)//2 \n",
        "    merge_sort(arr, l, mid)\n",
        "    merge_sort(arr, mid+1, r)\n",
        "    merge(arr, l, mid, r)\n",
        "\n",
        "def merge(arr, l, mid, r):\n",
        "  # find the size of each half \n",
        "  size1, size2 = mid-l+1, r-mid \n",
        "\n",
        "  # create array for each half \n",
        "  left_arr = [0 for _ in range(size1)]\n",
        "  right_arr = [0 for _ in range(size2)]\n",
        "\n",
        "  # copy element for each half \n",
        "  for i in range(size1):\n",
        "    left_arr[i] = arr[l+i]\n",
        "  for j in range(size2):\n",
        "    right_arr[j] = arr[mid+1+j]\n",
        "  \n",
        "\n",
        "  # merge left and right \n",
        "  i, j, k = 0, 0, l \n",
        "  while i < size1 and j < size2:\n",
        "    if left_arr[i] <= right_arr[j]:\n",
        "      arr[k] = left_arr[i]\n",
        "      i += 1\n",
        "    else:\n",
        "      arr[k] = right_arr[j]\n",
        "      j += 1\n",
        "    k += 1\n",
        "  \n",
        "  # copy remaining elements \n",
        "  while i < size1:\n",
        "    arr[k] = left_arr[i]\n",
        "    i += 1; k += 1\n",
        "  \n",
        "  while j < size2:\n",
        "    arr[k] = right_arr[j]\n",
        "    j += 1; k += 1\n",
        "\n"
      ],
      "execution_count": null,
      "outputs": []
    }
  ]
}