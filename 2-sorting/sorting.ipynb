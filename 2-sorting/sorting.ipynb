{
  "nbformat": 4,
  "nbformat_minor": 0,
  "metadata": {
    "colab": {
      "name": "sorting.ipynb",
      "provenance": [],
      "collapsed_sections": [],
      "toc_visible": true
    },
    "kernelspec": {
      "display_name": "Python 3",
      "name": "python3"
    }
  },
  "cells": [
    {
      "cell_type": "markdown",
      "metadata": {
        "id": "1nB7IkEB4pv3"
      },
      "source": [
        "# Sorting Algorithms \n",
        "\n",
        "All visualizations can be accessed through: \n",
        "\n",
        "https://visualgo.net/en/sorting\n",
        "\n",
        "The algorithms discussed in this section are: \n",
        "\n",
        "* Bubble Sort\n",
        "* Selection Sort\n",
        "* Insertion Sort \n",
        "* Merge Sort \n",
        "* Quick Sort / Quick Select \n",
        "* Counting Sort\n",
        "* Radix Sort \n",
        "* Bucket Sort "
      ]
    },
    {
      "cell_type": "markdown",
      "metadata": {
        "id": "dxk-fLkE5oYz"
      },
      "source": [
        "## Part 1: Naive Sorting Algorithms "
      ]
    },
    {
      "cell_type": "markdown",
      "metadata": {
        "id": "_kWIfNn0M4jK"
      },
      "source": [
        "### 1.1 Bubble Sort "
      ]
    },
    {
      "cell_type": "markdown",
      "metadata": {
        "id": "RZ6xF85NM9GS"
      },
      "source": [
        "**Explanation**\n",
        "\n",
        "Repeatedly swaps adjacent elements if they are in the wrong order. Sends the largest elements to the end. \n",
        "\n",
        "<br />\n",
        "\n",
        "**Pseudocode** \n",
        "\n",
        "for i --> 0 to n-2 \n",
        "\n",
        "&nbsp;&nbsp;&nbsp;&nbsp; for j --> 0 to n-2-i\n",
        "\n",
        "&nbsp;&nbsp;&nbsp;&nbsp;&nbsp;&nbsp;&nbsp;&nbsp; if arr[j] > arr[j+1]\n",
        "\n",
        "&nbsp;&nbsp;&nbsp;&nbsp;&nbsp;&nbsp;&nbsp;&nbsp;&nbsp;&nbsp;&nbsp;&nbsp;swap(arr[j], arr[j+1])\n",
        "\n",
        "<br />\n",
        "\n",
        "**Runtime**\n",
        "\n",
        "time: $O(n^2)$ &nbsp;&nbsp; space: $O(1)$\n"
      ]
    },
    {
      "cell_type": "markdown",
      "metadata": {
        "id": "2kerBPcGPcn6"
      },
      "source": [
        "<br />"
      ]
    },
    {
      "cell_type": "code",
      "metadata": {
        "id": "BtcdboTpPdmm"
      },
      "source": [
        "def bubble_sort(nums):\n",
        "  for i in range(len(nums)-1):\n",
        "    for j in range(len(nums)-1-i):\n",
        "      if nums[j] > nums[j+1]:\n",
        "        nums[j], nums[j+1] = nums[j+1], nums[j]"
      ],
      "execution_count": null,
      "outputs": []
    },
    {
      "cell_type": "markdown",
      "metadata": {
        "id": "P05T0yrESmTM"
      },
      "source": [
        "<br />"
      ]
    },
    {
      "cell_type": "markdown",
      "metadata": {
        "id": "g7l0WC6uSn9b"
      },
      "source": [
        "### 1.2 Selection Sort "
      ]
    },
    {
      "cell_type": "markdown",
      "metadata": {
        "id": "xCSdlzgVUs0j"
      },
      "source": [
        "**Explanation**\n",
        "\n",
        "Repeatedly finds the min (or max) value of an array and swaps orders. Sends the min element to the front.\n",
        "\n",
        "<br />\n",
        "\n",
        "**Pseudocode**\n",
        "\n",
        "for i --> 0 to n-2 \n",
        "\n",
        "&nbsp;&nbsp;&nbsp;&nbsp; index = index of min element in arr[i:]\n",
        "\n",
        "&nbsp;&nbsp;&nbsp;&nbsp; swap(arr[i], arr[index])\n",
        "\n",
        "<br />\n",
        "\n",
        "**Runtime**\n",
        "\n",
        "time: $O(n^2)$ &nbsp;&nbsp; space: $O(1)$"
      ]
    },
    {
      "cell_type": "markdown",
      "metadata": {
        "id": "RVbiYQ6GViCX"
      },
      "source": [
        "<br />"
      ]
    },
    {
      "cell_type": "code",
      "metadata": {
        "id": "BWAeMtXwVi9s"
      },
      "source": [
        "def selection_sort(nums):\n",
        "  for i in range(len(nums)-1):\n",
        "    index = i\n",
        "    for j in range(i, len(nums)):\n",
        "      if nums[j] < nums[index]:\n",
        "        index = j \n",
        "    nums[i], nums[index] = nums[index], nums[i]\n"
      ],
      "execution_count": null,
      "outputs": []
    },
    {
      "cell_type": "markdown",
      "metadata": {
        "id": "a7YEC6wcW4A0"
      },
      "source": [
        "<br />"
      ]
    },
    {
      "cell_type": "markdown",
      "metadata": {
        "id": "tqnn4ziCW5PM"
      },
      "source": [
        "### 1.3 Insertion Sort "
      ]
    },
    {
      "cell_type": "markdown",
      "metadata": {
        "id": "PkpS-2vzW9p7"
      },
      "source": [
        "**Explanation**\n",
        "\n",
        "Repeatedly inserts an element to its rightful position within a given subarray.\n",
        "\n",
        "<br />\n",
        "\n",
        "**Pseudocode**\n",
        "\n",
        "for i --> 1 to n-1 \n",
        "\n",
        "&nbsp;&nbsp;&nbsp;&nbsp; key = arr[i]; j = i-1\n",
        "\n",
        "&nbsp;&nbsp;&nbsp;&nbsp; while j >= 0 and key < arr[j]\n",
        "\n",
        "&nbsp;&nbsp;&nbsp;&nbsp;&nbsp;&nbsp;&nbsp;&nbsp; arr[j+1] = arr[j]\n",
        "\n",
        "&nbsp;&nbsp;&nbsp;&nbsp;&nbsp;&nbsp;&nbsp;&nbsp;\n",
        "j--\n",
        "\n",
        "&nbsp;&nbsp;&nbsp;&nbsp;arr[j+1] = key \n",
        "\n",
        "<br />\n",
        "\n",
        "**Runtime**\n",
        "\n",
        "average time: $O(n^2)$, best time: $O(n)$ &nbsp;&nbsp; space: $O(1)$"
      ]
    },
    {
      "cell_type": "markdown",
      "metadata": {
        "id": "zbAUp6wnd_Kf"
      },
      "source": [
        "<br />"
      ]
    },
    {
      "cell_type": "code",
      "metadata": {
        "id": "8btiy2LIeAJW"
      },
      "source": [
        "def insertion_sort(nums):\n",
        "  for i in range(1, len(nums)):\n",
        "    key = nums[i]; j = i-1 \n",
        "    while j >= 0 and key < nums[j]:\n",
        "      nums[j+1] = nums[j]\n",
        "      j -= 1\n",
        "    nums[j+1] = key \n"
      ],
      "execution_count": null,
      "outputs": []
    },
    {
      "cell_type": "markdown",
      "metadata": {
        "id": "Q17aMXZufegu"
      },
      "source": [
        "<br />\n",
        "<br />"
      ]
    },
    {
      "cell_type": "markdown",
      "metadata": {
        "id": "KpabSGWapY7A"
      },
      "source": [
        "## Part 2: Efficient Sorting Algorithms "
      ]
    },
    {
      "cell_type": "markdown",
      "metadata": {
        "id": "EBNJk95cphZ3"
      },
      "source": [
        "### 2.1 Merge Sort "
      ]
    },
    {
      "cell_type": "markdown",
      "metadata": {
        "id": "5N_rBKOtpjQ7"
      },
      "source": [
        "**Explanation**\n",
        "\n",
        "Recursively break arrays into half, then start merging them in sorted order. \n",
        "\n",
        "<br />\n",
        "\n",
        "**Pseudocode**\n",
        "\n",
        "mergesort(arr):\n",
        "\n",
        "&nbsp;&nbsp;&nbsp;&nbsp;if arr.length == 1:\n",
        "\n",
        "&nbsp;&nbsp;&nbsp;&nbsp;&nbsp;&nbsp;&nbsp;&nbsp;return\n",
        "\n",
        "&nbsp;&nbsp;&nbsp;&nbsp;mergesort(first half)\n",
        "\n",
        "&nbsp;&nbsp;&nbsp;&nbsp;mergesort(second half)\n",
        "\n",
        "&nbsp;&nbsp;&nbsp;&nbsp;merge(first half, second half)\n",
        "\n",
        "<br />\n",
        "\n",
        "merge(arr1, arr2):\n",
        "\n",
        "&nbsp;&nbsp;&nbsp;&nbsp;initialize arr with length arr1 + arr2 \n",
        "\n",
        "&nbsp;&nbsp;&nbsp;&nbsp;ptr = ptr1 = ptr2 = 0\n",
        "\n",
        "&nbsp;&nbsp;&nbsp;&nbsp;while ptr1 < arr1.length and ptr2 < arr2.length\n",
        "\n",
        "&nbsp;&nbsp;&nbsp;&nbsp;&nbsp;&nbsp;&nbsp;&nbsp; if arr1[ptr1] < arr2[ptr2]:\n",
        "\n",
        "&nbsp;&nbsp;&nbsp;&nbsp;&nbsp;&nbsp;&nbsp;&nbsp;&nbsp;&nbsp;&nbsp;&nbsp; arr[ptr] = arr1[ptr1]; ptr1++ \n",
        "\n",
        "&nbsp;&nbsp;&nbsp;&nbsp;&nbsp;&nbsp;&nbsp;&nbsp; else\n",
        "\n",
        "&nbsp;&nbsp;&nbsp;&nbsp;&nbsp;&nbsp;&nbsp;&nbsp;&nbsp;&nbsp;&nbsp;&nbsp; arr[ptr] = arr1[ptr2]; ptr2++ \n",
        "\n",
        "&nbsp;&nbsp;&nbsp;&nbsp;&nbsp;&nbsp;&nbsp;&nbsp; ptr++\n",
        "\n",
        "&nbsp;&nbsp;&nbsp;&nbsp;fill in remainder of arr \n",
        "\n",
        "<br />\n",
        "\n",
        "**Runtime**\n",
        "\n",
        "\\begin{align*}\n",
        "T(n) = \\begin{cases}\n",
        "2T(n/2) + O(n) \\\\\n",
        "O(1) &\\mbox{if } length=1\\\\\n",
        "\\end{cases}\n",
        "\\end{align*}\n",
        "\n",
        "time: O(nlogn) \n",
        "\n",
        "space: O(n) (copys of array) + O(logn) (call stack size) = O(n)\n",
        "\n",
        "\n",
        "\n",
        "\n",
        "\n",
        "\n"
      ]
    },
    {
      "cell_type": "markdown",
      "metadata": {
        "id": "dObwPWjNsBtS"
      },
      "source": [
        "<br />"
      ]
    },
    {
      "cell_type": "code",
      "metadata": {
        "id": "6epR99NnsHe1"
      },
      "source": [
        "def merge_sort(arr, l, r):\n",
        "  if l < r:\n",
        "    mid = (l + r)//2 \n",
        "    merge_sort(arr, l, mid)\n",
        "    merge_sort(arr, mid+1, r)\n",
        "    merge(arr, l, mid, r)\n",
        "\n",
        "def merge(arr, l, mid, r):\n",
        "  # find the size of each half \n",
        "  size1, size2 = mid-l+1, r-mid \n",
        "\n",
        "  # create array for each half \n",
        "  left_arr = [0 for _ in range(size1)]\n",
        "  right_arr = [0 for _ in range(size2)]\n",
        "\n",
        "  # copy element for each half \n",
        "  for i in range(size1):\n",
        "    left_arr[i] = arr[l+i]\n",
        "  for j in range(size2):\n",
        "    right_arr[j] = arr[mid+1+j]\n",
        "  \n",
        "  # merge left and right \n",
        "  i, j, k = 0, 0, l \n",
        "  while i < size1 and j < size2:\n",
        "    if left_arr[i] <= right_arr[j]:\n",
        "      arr[k] = left_arr[i]\n",
        "      i += 1\n",
        "    else:\n",
        "      arr[k] = right_arr[j]\n",
        "      j += 1\n",
        "    k += 1\n",
        "  \n",
        "  # copy remaining elements \n",
        "  while i < size1:\n",
        "    arr[k] = left_arr[i]\n",
        "    i += 1; k += 1\n",
        "  \n",
        "  while j < size2:\n",
        "    arr[k] = right_arr[j]\n",
        "    j += 1; k += 1\n",
        "\n"
      ],
      "execution_count": null,
      "outputs": []
    },
    {
      "cell_type": "markdown",
      "metadata": {
        "id": "1nqXuugeDJWo"
      },
      "source": [
        "<br />"
      ]
    },
    {
      "cell_type": "markdown",
      "metadata": {
        "id": "8TrdsurwDMXq"
      },
      "source": [
        "### 2.2 Quick Sort"
      ]
    },
    {
      "cell_type": "markdown",
      "metadata": {
        "id": "7ZAHRN9cDTae"
      },
      "source": [
        "**Explanation**\n",
        "\n",
        "Uses a pivot to swap around elements and the pivot to their rightful place, then partitions on the pivot's index. \n",
        "\n",
        "<br />\n",
        "\n",
        "**Pseudocode**\n",
        "\n",
        "quicksort(arr, l , r):\n",
        "\n",
        "&nbsp;&nbsp;&nbsp;&nbsp;if l < r\n",
        "\n",
        "&nbsp;&nbsp;&nbsp;&nbsp;&nbsp;&nbsp;&nbsp;&nbsp;i = partition(arr, l, r)\n",
        "\n",
        "&nbsp;&nbsp;&nbsp;&nbsp;&nbsp;&nbsp;&nbsp;&nbsp;quicksort(arr, l, i-1)\n",
        "\n",
        "&nbsp;&nbsp;&nbsp;&nbsp;&nbsp;&nbsp;&nbsp;&nbsp;quicksort(arr, i+1, r)\n",
        "\n",
        "<br />\n",
        "\n",
        "partition(arr, l, r):\n",
        "\n",
        "&nbsp;&nbsp;&nbsp;&nbsp;pivot = arr[r]; i = l\n",
        "\n",
        "&nbsp;&nbsp;&nbsp;&nbsp;while l < r\n",
        "\n",
        "&nbsp;&nbsp;&nbsp;&nbsp;&nbsp;&nbsp;&nbsp;&nbsp;if arr[l] < pivot \n",
        "\n",
        "&nbsp;&nbsp;&nbsp;&nbsp;&nbsp;&nbsp;&nbsp;&nbsp;&nbsp;&nbsp;&nbsp;&nbsp;swap(arr[i], arr[l])\n",
        "\n",
        "&nbsp;&nbsp;&nbsp;&nbsp;&nbsp;&nbsp;&nbsp;&nbsp;&nbsp;&nbsp;&nbsp;&nbsp;i++\n",
        "\n",
        "&nbsp;&nbsp;&nbsp;&nbsp;&nbsp;&nbsp;&nbsp;&nbsp;l++\n",
        "\n",
        "&nbsp;&nbsp;&nbsp;&nbsp;swap(arr[i], pivot)\n",
        "\n",
        "&nbsp;&nbsp;&nbsp;&nbsp;return i\n",
        "\n",
        "<br />\n",
        "\n",
        "**Runtime**\n",
        "\n",
        "average time (when partition is done well):\n",
        "\n",
        "\\begin{align*}\n",
        "T(n) = \\begin{cases}\n",
        "2T(n/2) + O(n) \\\\\n",
        "O(1) &\\mbox{if } l >= r\\\\\n",
        "\\end{cases}\n",
        "\\end{align*}\n",
        "\n",
        "$\\therefore$ $O(nlogn)$\n",
        "\n",
        "<br />\n",
        "\n",
        "worst time (when partition is done well):\n",
        "\n",
        "\\begin{align*}\n",
        "T(n) = \\begin{cases}\n",
        "T(n-1) + T(1) + O(n) \\\\\n",
        "O(1) &\\mbox{if } l >= r\\\\\n",
        "\\end{cases}\n",
        "\\end{align*}\n",
        "\n",
        "$\\therefore$ $O(n^2)$\n",
        "\n",
        "<br />\n",
        "\n",
        "average space: O(logn) (call stack size)\n",
        "\n",
        "worst space: O(n) (call stack size)"
      ]
    },
    {
      "cell_type": "markdown",
      "metadata": {
        "id": "Ya71s5gbHBX8"
      },
      "source": [
        "<br />"
      ]
    },
    {
      "cell_type": "code",
      "metadata": {
        "id": "3E_7B9tgHCtK"
      },
      "source": [
        "def quick_sort(nums, l, r):\n",
        "  if l < r:\n",
        "    index = partition(nums, l, r)\n",
        "    quick_sort(nums, l, index-1)\n",
        "    quick_sort(nums, index+1, r)\n",
        "\n",
        "def partition(nums, l, r):\n",
        "  # this implementation uses right-most pivoting \n",
        "  pivot = nums[r]; i = l \n",
        "  while l < r:\n",
        "    if nums[l] < pivot:\n",
        "      nums[i], nums[l] = nums[l], nums[i]\n",
        "      i += 1\n",
        "    l += 1\n",
        "  nums[i], nums[r] = nums[r], nums[i]\n",
        "  return i "
      ],
      "execution_count": null,
      "outputs": []
    },
    {
      "cell_type": "markdown",
      "metadata": {
        "id": "ATBjHJ1fY-Gi"
      },
      "source": [
        "<br />"
      ]
    },
    {
      "cell_type": "markdown",
      "metadata": {
        "id": "yqEwDL8vZDQl"
      },
      "source": [
        "### 2.3 Quick Select"
      ]
    },
    {
      "cell_type": "markdown",
      "metadata": {
        "id": "9A9M7cRJZFbP"
      },
      "source": [
        "Although quick select is not a sorting algorithm, it does stem from quick sort, hence why I discuss it here. \n",
        "\n",
        "<br />\n",
        "\n",
        "**Explanation** \n",
        "\n",
        "Quick select is effective in finding the kth smallest element in an unsorted array. The algorithm uses quick sort to only sort out parts that it NEEDS, meaning it will only partially sort the array.\n",
        "\n",
        "<br />\n",
        "\n",
        "**Pseudocode** \n",
        "\n",
        "Reference the implementation and the quick sort pseudocode.\n",
        "\n",
        "<br />\n",
        "\n",
        "**Runtime**\n",
        "\n",
        "average time: $O(n)$, worst time: $O(n^2)$ \n",
        "\n"
      ]
    },
    {
      "cell_type": "markdown",
      "metadata": {
        "id": "jsIgnsThcwuX"
      },
      "source": [
        "<br />"
      ]
    },
    {
      "cell_type": "code",
      "metadata": {
        "id": "rhL1o51kcyng"
      },
      "source": [
        "def quick_select(nums, l, r, k):\n",
        "  # we do not need the l < r condition anymore \n",
        "  # k is what should belong in index k after sorting \n",
        "  index = partition(nums, l, r)\n",
        "  if index < k:\n",
        "    return quick_select(nums, index+1, r, k)\n",
        "  elif index > k:\n",
        "    return quick_select(nums, l, index-1, k)\n",
        "  else:\n",
        "    return nums[index]"
      ],
      "execution_count": null,
      "outputs": []
    },
    {
      "cell_type": "markdown",
      "metadata": {
        "id": "4ncDKhFLeIqf"
      },
      "source": [
        "<br />\n",
        "<br />"
      ]
    },
    {
      "cell_type": "markdown",
      "metadata": {
        "id": "mcAEXrVxehzo"
      },
      "source": [
        "## Part 3: Other Sorting Algorithms"
      ]
    },
    {
      "cell_type": "markdown",
      "metadata": {
        "id": "tsm--RpPenHn"
      },
      "source": [
        "### 3.1 Counting Sort"
      ]
    },
    {
      "cell_type": "markdown",
      "metadata": {
        "id": "rW0U8pOresBM"
      },
      "source": [
        "**Explanation**\n",
        "\n",
        "Have an array that counts elements and then sorts them into their rightful order.\n",
        "\n",
        "<br />\n",
        "\n",
        "**Assumption**\n",
        "\n",
        "Numbers are within a certain range (e.g. 0 to m)\n",
        "\n",
        "**Pseudocode**\n",
        "\n",
        "initialize equals array with # of counts \n",
        "\n",
        "initialize less array with the sum of counts that are lower than its indices \n",
        "\n",
        "initialize sorted array with size of original array\n",
        "\n",
        "for each number in original array:\n",
        "\n",
        "&nbsp;&nbsp;&nbsp;&nbsp;sorted[less[num]] = num \n",
        "\n",
        "&nbsp;&nbsp;&nbsp;&nbsp;less[num]++\n",
        "\n",
        "<br />\n",
        "\n",
        "**Runtime**\n",
        "\n",
        "time: O(m+n) where m is the range of 0 to max, n is size of array \n",
        "\n",
        "space: O(m+n)\n",
        "\n",
        "<br />\n",
        "\n",
        "**Why not just loop through the equals array and replace elements?**\n",
        "\n",
        "That is an easier implementation and is also more efficient. However, for identical elements, that implementation does not guarantee \"stable sorting\" if needed."
      ]
    },
    {
      "cell_type": "markdown",
      "metadata": {
        "id": "3OUQja_wnC5A"
      },
      "source": [
        "<br />"
      ]
    },
    {
      "cell_type": "code",
      "metadata": {
        "id": "5Re2yRHPnEug"
      },
      "source": [
        "def counting_sort(nums):\n",
        "  equals = [0 for _ in range(max(nums)+1)]\n",
        "  for num in nums:\n",
        "    equals[num] += 1\n",
        "  \n",
        "  less = [0 for _ in range(len(equals))]\n",
        "  for i in range(1, len(less)):\n",
        "    less[i] = less[i-1] + equals[i-1]\n",
        "  \n",
        "  sorted_nums = [0 for _ in range(len(nums))]\n",
        "  for num in nums:\n",
        "    sorted_nums[less[num]] = num \n",
        "    less[num] += 1\n",
        "\n",
        "  # you can also implement in a way such that the original array changes \n",
        "  return sorted_nums"
      ],
      "execution_count": null,
      "outputs": []
    },
    {
      "cell_type": "markdown",
      "metadata": {
        "id": "4O6L0v8js9PD"
      },
      "source": [
        "<br />"
      ]
    },
    {
      "cell_type": "markdown",
      "metadata": {
        "id": "zudhBNfSs_CL"
      },
      "source": [
        "### 3.2 Radix Sort "
      ]
    },
    {
      "cell_type": "markdown",
      "metadata": {
        "id": "izNAjMLKtBW1"
      },
      "source": [
        "**Explanation**\n",
        "\n",
        "Repeatedly performs counting sort by digits \n",
        "\n",
        "<br />\n",
        "\n",
        "**Assumption**\n",
        "\n",
        "Every input is a certain number of digits \n",
        "\n",
        "<br />\n",
        "\n",
        "**Pseudocode**\n",
        "\n",
        "for each digit:\n",
        "\n",
        "&nbsp;&nbsp;perform counting sort \n",
        "\n",
        "<br />\n",
        "\n",
        "**Runtime**\n",
        "\n",
        "Given n d digit numbers\n",
        "\n",
        "time: $O(d(m+n))$ &nbsp;&nbsp; space: $O(m+n)$"
      ]
    },
    {
      "cell_type": "markdown",
      "metadata": {
        "id": "OACoP14cuX9O"
      },
      "source": [
        "<br />"
      ]
    },
    {
      "cell_type": "code",
      "metadata": {
        "id": "PhR07O9suaIT"
      },
      "source": [
        "class Radix:\n",
        "\n",
        "  def radix_sort(self, nums):\n",
        "    self.nums = nums \n",
        "    num_digits = len(str(nums[0]))    # assuming all numbers have the same digits \n",
        "\n",
        "    for i in range(num_digits):\n",
        "      self.nums = self.counting_sort_modified(i)\n",
        "    \n",
        "    return self.nums \n",
        "\n",
        "\n",
        "  def counting_sort_modified(self, curr_digit):\n",
        "    equals = [0 for _ in range(10)]\n",
        "    for num in self.nums:\n",
        "      div = 10 ** (curr_digit)\n",
        "      equals[(num//div)%10] += 1\n",
        "    \n",
        "    less = [0 for _ in range(len(equals))]\n",
        "    for i in range(1, len(less)):\n",
        "      less[i] = less[i-1] + equals[i-1]\n",
        "    \n",
        "    sorted_nums = [0 for _ in range(len(self.nums))]\n",
        "    for num in self.nums:\n",
        "      mod = 10 ** (curr_digit + 1)\n",
        "      sorted_nums[less[(num//div)%10]] = num \n",
        "      less[(num//div)%10] += 1\n",
        "    \n",
        "    return sorted_nums \n",
        "\n",
        "\n"
      ],
      "execution_count": null,
      "outputs": []
    },
    {
      "cell_type": "markdown",
      "metadata": {
        "id": "xHvb5z-e44py"
      },
      "source": [
        "<br />"
      ]
    },
    {
      "cell_type": "markdown",
      "metadata": {
        "id": "CGcbU7Lf46eC"
      },
      "source": [
        "### 3.3 Bucket Sort "
      ]
    },
    {
      "cell_type": "markdown",
      "metadata": {
        "id": "FSI54COA49zZ"
      },
      "source": [
        "**Explanation**\n",
        "\n",
        "Distribute elements into equal size buckets and proceeds to sort by bucket.\n",
        "\n",
        "<br />\n",
        "\n",
        "**Assumption**\n",
        "\n",
        "Data is uniformly distributed within [min, max] \n",
        "\n",
        "<br />\n",
        "\n",
        "**Pseudocode**\n",
        "\n",
        "initialize an array with k nodes (buckets)\n",
        "\n",
        "for each element in original arr:\n",
        "\n",
        "&nbsp;&nbsp;&nbsp;&nbsp;put element into appropriate bucket \n",
        "\n",
        "for each bucket:\n",
        "\n",
        "&nbsp;&nbsp;&nbsp;&nbsp;perform insertion sort  (can also be other sorts)\n",
        "\n",
        "combine the buckets for the sorted outcome \n",
        "\n",
        "<br />\n",
        "\n",
        "**Runtime**\n",
        "\n",
        "time: $O(n + n^2/k + k)$ &nbsp;&nbsp; space: $O(n+k)$\n",
        "\n"
      ]
    },
    {
      "cell_type": "markdown",
      "metadata": {
        "id": "iGEbZphM67EV"
      },
      "source": [
        "<br />"
      ]
    },
    {
      "cell_type": "code",
      "metadata": {
        "id": "cnaKnFeW69I6"
      },
      "source": [
        "# We will not be using a linked list implementation here \n",
        "# We also assume that the data is already \"normalized\" \n",
        "# so the range of values is [0, 1] \n",
        "\n",
        "def bucket_sort(nums, k):\n",
        "  buckets = [[] for _ in range(k)]\n",
        "\n",
        "  for num in nums:\n",
        "    if num == 1:\n",
        "      buckets[-1].append(num)\n",
        "    else:\n",
        "      index = int(num * k) \n",
        "      buckets[index].append(num)\n",
        "  \n",
        "  for i in range(len(buckets)):\n",
        "    insertion_sort(buckets[i])\n",
        "  \n",
        "  res = []\n",
        "  for i in range(len(buckets)):\n",
        "    for num in buckets[i]:\n",
        "      res.append(num)\n",
        "  return res \n",
        "\n",
        "\n",
        "\n"
      ],
      "execution_count": null,
      "outputs": []
    }
  ]
}