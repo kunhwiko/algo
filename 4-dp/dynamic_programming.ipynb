{
  "nbformat": 4,
  "nbformat_minor": 0,
  "metadata": {
    "colab": {
      "name": "dynamic-programming.ipynb",
      "provenance": [],
      "collapsed_sections": [],
      "toc_visible": true
    },
    "kernelspec": {
      "display_name": "Python 3",
      "name": "python3"
    }
  },
  "cells": [
    {
      "cell_type": "markdown",
      "metadata": {
        "id": "1nB7IkEB4pv3"
      },
      "source": [
        "# Dynamic Programming "
      ]
    },
    {
      "cell_type": "markdown",
      "metadata": {
        "id": "WGAE876m7opU"
      },
      "source": [
        "Dynamic Programming involves finding patterns in subproblems to solve more complicated problems.\n",
        "\n",
        "We touch upon the following dp questions here.\n",
        "\n",
        "* Coin Change"
      ]
    },
    {
      "cell_type": "markdown",
      "metadata": {
        "id": "dxk-fLkE5oYz"
      },
      "source": [
        "## Part 1: Coin Change"
      ]
    },
    {
      "cell_type": "markdown",
      "metadata": {
        "id": "y4WmAKlm7_Uo"
      },
      "source": [
        "**Question**\n",
        "\n",
        "N(i,j) is a function that returns the minimum number of coins required to get change for amount i using only denomiations d1, d2, d3, ... dj"
      ]
    },
    {
      "cell_type": "markdown",
      "metadata": {
        "id": "IB6jtukj9xA6"
      },
      "source": [
        "### 1.1 Recursion "
      ]
    },
    {
      "cell_type": "markdown",
      "metadata": {
        "id": "afFp3-n1-Dxl"
      },
      "source": [
        "\\begin{align*}\n",
        "N(i,j) = min\\begin{cases}\n",
        "N(i,j-1) \\\\\n",
        "1 + N(i-d_{j}, j)\n",
        "\\end{cases}\n",
        "\\end{align*}"
      ]
    },
    {
      "cell_type": "markdown",
      "metadata": {
        "id": "fT9zeaRp-kFK"
      },
      "source": [
        "### 1.2 2-D Array"
      ]
    },
    {
      "cell_type": "markdown",
      "metadata": {
        "id": "zNsxnPSs-mYG"
      },
      "source": [
        "**Pseudocode**\n",
        "\n",
        "initialize N --> A+1 x n\n",
        "\n",
        "first row is 0, the rest is Inf \n",
        "\n",
        "for i --> 1 to A \n",
        "\n",
        "&nbsp;&nbsp;&nbsp;&nbsp;for j --> 0 to n-1 \n",
        "\n",
        "&nbsp;&nbsp;&nbsp;&nbsp;&nbsp;&nbsp;&nbsp;&nbsp;$N[i][j]$ = min($N[i][j-1]$, $1+N[i-d_{j}][j]$)\n",
        "\n",
        "&nbsp;&nbsp;&nbsp;&nbsp;&nbsp;&nbsp;&nbsp;&nbsp;// when j-1 is negative, $N[i][j]$ = $1+N[i-d_{0}][j]$\n",
        "\n",
        "&nbsp;&nbsp;&nbsp;&nbsp;&nbsp;&nbsp;&nbsp;&nbsp;// when i-dj is negative, $N[i][j]$ = $N[i][j-1]$\n",
        "\n",
        "<br />\n",
        "\n",
        "**Runtime**\n",
        "\n",
        "time: O(An)"
      ]
    },
    {
      "cell_type": "code",
      "metadata": {
        "id": "7ydrWjsxA_8m"
      },
      "source": [
        "def coin_change_2D(coins, amount):\n",
        "    dp = [[2**31-1 for _ in range(len(coins))] for _ in range(amount+1)]\n",
        "    for i in range(len(coins)):\n",
        "        dp[0][i] = 0 \n",
        "    for i in range(1, amount+1):\n",
        "        for j in range(len(coins)):\n",
        "            if j-1 < 0:\n",
        "                dp[i][j] = 1 + dp[i-coins[0]][j]\n",
        "            elif i-coins[j] < 0:\n",
        "                dp[i][j] = dp[i][j-1]\n",
        "            else:\n",
        "                dp[i][j] = min(dp[i][j-1], 1+dp[i-coins[j]][j])\n",
        "    return dp[-1][-1]   "
      ],
      "execution_count": null,
      "outputs": []
    },
    {
      "cell_type": "markdown",
      "metadata": {
        "id": "NbDgjVLEDhO8"
      },
      "source": [
        "<br />"
      ]
    },
    {
      "cell_type": "markdown",
      "metadata": {
        "id": "QagNIzcoDiPL"
      },
      "source": [
        "###1.3 1-D Array"
      ]
    },
    {
      "cell_type": "markdown",
      "metadata": {
        "id": "B3_751wWDkaX"
      },
      "source": [
        "**Pseudocode**\n",
        "\n",
        "initialize N with size A+1\n",
        "\n",
        "N[0] = 0, all others Inf\n",
        "\n",
        "for i --> 1 to A \n",
        "\n",
        "&nbsp;&nbsp;&nbsp;&nbsp;for j --> 0 to n-1 \n",
        "\n",
        "&nbsp;&nbsp;&nbsp;&nbsp;&nbsp;&nbsp;&nbsp;&nbsp;$N[i]$ = min($N[i]$, 1+$N[i-d_{j}])$\n",
        "\n",
        "&nbsp;&nbsp;&nbsp;&nbsp;&nbsp;&nbsp;&nbsp;&nbsp;// when i-dj is negative, ignore jth coin \n",
        "\n",
        "<br />\n",
        "\n",
        "**Runtime**\n",
        "\n",
        "time: $O(An)$"
      ]
    },
    {
      "cell_type": "code",
      "metadata": {
        "id": "0H3t7O9-ETZi"
      },
      "source": [
        "def coin_change_1D(coins, amount):\n",
        "    dp = [2**31-1] * (amount+1)\n",
        "    dp[0] = 0\n",
        "    for i in range(1, amount+1):\n",
        "        for j in range(len(coins)):\n",
        "            if i-coins[j] >= 0:\n",
        "                dp[i] = min(dp[i], 1+dp[i-coins[j]])\n",
        "    return dp[-1]"
      ],
      "execution_count": null,
      "outputs": []
    }
  ]
}