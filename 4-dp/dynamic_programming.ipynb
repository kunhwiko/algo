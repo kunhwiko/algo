{
  "nbformat": 4,
  "nbformat_minor": 0,
  "metadata": {
    "colab": {
      "name": "dynamic-programming.ipynb",
      "provenance": [],
      "collapsed_sections": [],
      "toc_visible": true
    },
    "kernelspec": {
      "display_name": "Python 3",
      "name": "python3"
    }
  },
  "cells": [
    {
      "cell_type": "markdown",
      "metadata": {
        "id": "1nB7IkEB4pv3"
      },
      "source": [
        "# Dynamic Programming "
      ]
    },
    {
      "cell_type": "markdown",
      "metadata": {
        "id": "WGAE876m7opU"
      },
      "source": [
        "Dynamic Programming involves finding patterns in subproblems to solve more complicated problems.\n",
        "\n",
        "We touch upon the following dp questions here.\n",
        "\n",
        "* Coin Change\n",
        "* Edit Distance\n",
        "* Subsequences \n",
        "  * Longest Common Subsequence\n",
        "  * Longest Increasing Subsequence \n",
        "  * Longest Common Contiguous Subsequence\n",
        "* Knapsack\n",
        "  * Knapsack with Repeats \n",
        "  * Knapsack without Repeats \n",
        "  * Functional Knapsack"
      ]
    },
    {
      "cell_type": "markdown",
      "metadata": {
        "id": "irToU6WxgMnF"
      },
      "source": [
        "<br />"
      ]
    },
    {
      "cell_type": "markdown",
      "metadata": {
        "id": "dxk-fLkE5oYz"
      },
      "source": [
        "## Part 1: Coin Change"
      ]
    },
    {
      "cell_type": "markdown",
      "metadata": {
        "id": "y4WmAKlm7_Uo"
      },
      "source": [
        "**Question**\n",
        "\n",
        "N(i,j) is a function that returns the minimum number of coins required to get change for amount i using only denomiations d1, d2, d3, ... dj"
      ]
    },
    {
      "cell_type": "markdown",
      "metadata": {
        "id": "IB6jtukj9xA6"
      },
      "source": [
        "### 1.1 Recursion "
      ]
    },
    {
      "cell_type": "markdown",
      "metadata": {
        "id": "afFp3-n1-Dxl"
      },
      "source": [
        "\\begin{align*}\n",
        "N(i,j) = min\\begin{cases}\n",
        "N(i,j-1) \\\\\n",
        "1 + N(i-d_{j}, j)\n",
        "\\end{cases}\n",
        "\\end{align*}"
      ]
    },
    {
      "cell_type": "markdown",
      "metadata": {
        "id": "3hKvnSZRjxp9"
      },
      "source": [
        "<br />"
      ]
    },
    {
      "cell_type": "markdown",
      "metadata": {
        "id": "fT9zeaRp-kFK"
      },
      "source": [
        "### 1.2 2-D Array"
      ]
    },
    {
      "cell_type": "markdown",
      "metadata": {
        "id": "zNsxnPSs-mYG"
      },
      "source": [
        "**Pseudocode**\n",
        "\n",
        "initialize N --> (A+1) x (n+1)\n",
        "\n",
        "first row is 0, the rest is Inf \n",
        "\n",
        "for i --> 1 to A \n",
        "\n",
        "&nbsp;&nbsp;&nbsp;&nbsp;for j --> 1 to n \n",
        "\n",
        "&nbsp;&nbsp;&nbsp;&nbsp;&nbsp;&nbsp;&nbsp;&nbsp;$N[i][j]$ = min($N[i][j-1]$, $1+N[i-d_{j}][j]$)\n",
        "\n",
        "&nbsp;&nbsp;&nbsp;&nbsp;&nbsp;&nbsp;&nbsp;&nbsp;// when i-dj is negative, $N[i][j]$ = $N[i][j-1]$\n",
        "\n",
        "<br />\n",
        "\n",
        "**Runtime**\n",
        "\n",
        "time: O(An)"
      ]
    },
    {
      "cell_type": "code",
      "metadata": {
        "id": "7ydrWjsxA_8m"
      },
      "source": [
        "def coin_change_2D(coins, amount):\n",
        "    dp = [[2**31-1 for _ in range(len(coins)+1)] for _ in range(amount+1)]\n",
        "    for i in range(len(coins)+1):\n",
        "        dp[0][i] = 0 \n",
        "    for i in range(1, amount+1):\n",
        "        for j in range(1, len(coins)+1):\n",
        "            if i-coins[j-1] < 0:\n",
        "                dp[i][j] = dp[i][j-1]\n",
        "            else:\n",
        "                dp[i][j] = min(dp[i][j-1], 1+dp[i-coins[j-1]][j])\n",
        "    return dp[-1][-1]   "
      ],
      "execution_count": null,
      "outputs": []
    },
    {
      "cell_type": "markdown",
      "metadata": {
        "id": "NbDgjVLEDhO8"
      },
      "source": [
        "<br />"
      ]
    },
    {
      "cell_type": "markdown",
      "metadata": {
        "id": "QagNIzcoDiPL"
      },
      "source": [
        "###1.3 1-D Array"
      ]
    },
    {
      "cell_type": "markdown",
      "metadata": {
        "id": "B3_751wWDkaX"
      },
      "source": [
        "**Pseudocode**\n",
        "\n",
        "initialize N with size A+1\n",
        "\n",
        "N[0] = 0, all others Inf\n",
        "\n",
        "for i --> 1 to A \n",
        "\n",
        "&nbsp;&nbsp;&nbsp;&nbsp;for j --> 0 to n-1 \n",
        "\n",
        "&nbsp;&nbsp;&nbsp;&nbsp;&nbsp;&nbsp;&nbsp;&nbsp;$N[i]$ = min($N[i]$, 1+$N[i-d_{j}])$\n",
        "\n",
        "&nbsp;&nbsp;&nbsp;&nbsp;&nbsp;&nbsp;&nbsp;&nbsp;// when i-dj is negative, ignore jth coin \n",
        "\n",
        "<br />\n",
        "\n",
        "**Runtime**\n",
        "\n",
        "time: $O(An)$"
      ]
    },
    {
      "cell_type": "code",
      "metadata": {
        "id": "0H3t7O9-ETZi"
      },
      "source": [
        "def coin_change_1D(coins, amount):\n",
        "    dp = [2**31-1] * (amount+1)\n",
        "    dp[0] = 0\n",
        "    for i in range(1, amount+1):\n",
        "        for j in range(len(coins)):\n",
        "            if i-coins[j] >= 0:\n",
        "                dp[i] = min(dp[i], 1+dp[i-coins[j]])\n",
        "    return dp[-1]"
      ],
      "execution_count": null,
      "outputs": []
    },
    {
      "cell_type": "markdown",
      "metadata": {
        "id": "f09XbBrdgTCs"
      },
      "source": [
        "<br />"
      ]
    },
    {
      "cell_type": "markdown",
      "metadata": {
        "id": "wArzAF9dgUCP"
      },
      "source": [
        "## Part 2: Edit Distance"
      ]
    },
    {
      "cell_type": "markdown",
      "metadata": {
        "id": "WJ6Ucz9RgX28"
      },
      "source": [
        "**Question**\n",
        "\n",
        "For two strings x and y, find the lowest cost alignment for x, y.\n",
        "\n",
        "For instance, given x=\"Saturday\" and y=\"Sunday\", what is the minimum number of adjustments to make the string the same?"
      ]
    },
    {
      "cell_type": "markdown",
      "metadata": {
        "id": "c8kv_Felgz11"
      },
      "source": [
        "### 2.1 Recursion "
      ]
    },
    {
      "cell_type": "markdown",
      "metadata": {
        "id": "gwyEwI6Tg3FC"
      },
      "source": [
        "\\begin{align*}\n",
        "E(i,j) = min\\begin{cases}\n",
        "E(i-1,j) + 1 \\\\\n",
        "E(i,j-1) + 1 \\\\\n",
        "E(i-1,j-1) + diff(i,j)\n",
        "\\end{cases}\n",
        "\\end{align*}\n",
        "\n",
        "diff(i,j) is 0 for the same characters or 1 for different characters \n",
        "\n",
        "<br />\n",
        "\n",
        "From x's point of view:\n",
        "\n",
        "* E(i-1,j) + 1 --> deletion\n",
        "\n",
        "* E(i,j-1) + 1 --> insertion \n",
        "\n",
        "* E(i-1,j-1) + diff(i,j) --> replacement"
      ]
    },
    {
      "cell_type": "markdown",
      "metadata": {
        "id": "A3b4WoX8j0ur"
      },
      "source": [
        "<br />"
      ]
    },
    {
      "cell_type": "markdown",
      "metadata": {
        "id": "EjjJ13q1iVAO"
      },
      "source": [
        "### 2.2 2-D Array"
      ]
    },
    {
      "cell_type": "markdown",
      "metadata": {
        "id": "odfyPGn8iXcW"
      },
      "source": [
        "**Pseudocode**\n",
        "\n",
        "initialize E --> (m+1) * (n+1)\n",
        "\n",
        "$E[0][0]$ = 0 \n",
        "\n",
        "$E[0][j]$ = j (j --> 1 to n) \n",
        "\n",
        "$E[i][0]$ = i (i --> 1 to m)\n",
        "\n",
        "for i --> 1 to m \n",
        "\n",
        "&nbsp;&nbsp;&nbsp;&nbsp;for j --> 1 to n \n",
        "\n",
        "&nbsp;&nbsp;&nbsp;&nbsp;&nbsp;&nbsp;&nbsp;&nbsp;$E[i][j]$ = min($E[i-1][j]$+1, $E[i][j-1]$+1, $E[i-1][j-1]$+$diff(i,j)$)\n",
        "\n",
        "return $E[m][n]$\n",
        "\n",
        "<br />\n",
        "\n",
        "**Runtime**\n",
        "\n",
        "time: $O(mn)$\n"
      ]
    },
    {
      "cell_type": "code",
      "metadata": {
        "id": "EJrE6sr0j7hm"
      },
      "source": [
        "def edit_dist(word1, word2):\n",
        "    E = [[0 for _ in range(len(word2)+1)] for _ in range(len(word1)+1)]\n",
        "    for j in range(1, len(word2)+1):\n",
        "        E[0][j] = j \n",
        "    for i in range(1, len(word1)+1):\n",
        "        E[i][0] = i\n",
        "\n",
        "    for i in range(1, len(word1)+1):\n",
        "        for j in range(1, len(word2)+1):\n",
        "            if word1[i-1] == word2[j-1]:\n",
        "                E[i][j] = min(E[i-1][j]+1, E[i][j-1]+1, E[i-1][j-1])\n",
        "            else:\n",
        "                E[i][j] = min(E[i-1][j]+1, E[i][j-1]+1, E[i-1][j-1]+1)\n",
        "    return E[-1][-1]   "
      ],
      "execution_count": null,
      "outputs": []
    },
    {
      "cell_type": "markdown",
      "metadata": {
        "id": "SeNEtUl5_r3l"
      },
      "source": [
        "<br />"
      ]
    },
    {
      "cell_type": "markdown",
      "metadata": {
        "id": "OYd3ISM3_w9o"
      },
      "source": [
        "## Part 3: Subsequence Problems\n",
        "\n"
      ]
    },
    {
      "cell_type": "markdown",
      "metadata": {
        "id": "2PMwSHpm_-gf"
      },
      "source": [
        "### 3.1 Longest Common Subsequence"
      ]
    },
    {
      "cell_type": "markdown",
      "metadata": {
        "id": "kjXBvboDRZZv"
      },
      "source": [
        "**Question**\n",
        "\n",
        "For some sequence x and y, find the common subsequence with the longest length \n",
        "\n",
        "<br />\n",
        "\n",
        "**Recursion**\n",
        "\n",
        "\\begin{align*}\n",
        "N(i,j) \\begin{cases}\n",
        "max(N(i-1,j), N(i,j-1))\\\\\n",
        "N(i-1,j-1) + 1 \\\\\n",
        "\\end{cases}\n",
        "\\end{align*}\n",
        "\n",
        "if ith and jth element are different, then the longest subsequence must be $max(N(i-1,j), N(i,j-1))$\n",
        "\n",
        "if they are the same, then the new longest subsequence must be $N(i-1,j-1) + 1$\n",
        "\n",
        "<br />\n",
        "\n",
        "**Pseudocode**\n",
        "\n",
        "initialize N with zeros (m+1) * (n+1)\n",
        "\n",
        "for i --> 1 to m \n",
        "\n",
        "&nbsp;&nbsp;&nbsp;&nbsp;for j --> 1 to n \n",
        "\n",
        "&nbsp;&nbsp;&nbsp;&nbsp;&nbsp;&nbsp;&nbsp;&nbsp;if i and j point to different characters \n",
        "\n",
        "&nbsp;&nbsp;&nbsp;&nbsp;&nbsp;&nbsp;&nbsp;&nbsp;&nbsp;&nbsp;&nbsp;&nbsp;$N[i][j]$ = $max(N[i-1][j], N[i][j-1])$ \n",
        "\n",
        "&nbsp;&nbsp;&nbsp;&nbsp;&nbsp;&nbsp;&nbsp;&nbsp;else \n",
        "\n",
        "&nbsp;&nbsp;&nbsp;&nbsp;&nbsp;&nbsp;&nbsp;&nbsp;&nbsp;&nbsp;&nbsp;&nbsp;$N[i][j]$ = $N[i-1][j-1]+1$ \n",
        "\n",
        "return $N[m][n]$\n",
        "\n",
        "<br />\n",
        "\n",
        "**Runtime**\n",
        "\n",
        "time: O(mn)"
      ]
    },
    {
      "cell_type": "code",
      "metadata": {
        "id": "g3di1adfT4Ny"
      },
      "source": [
        "def longest_common_subsequence(text1, text2):\n",
        "    dp = [[0 for _ in range(len(text2)+1)] for _ in range(len(text1)+1)]  \n",
        "    \n",
        "    for i in range(1, len(text1)+1):\n",
        "        for j in range(1, len(text2)+1):\n",
        "            if text1[i-1] == text2[j-1]:\n",
        "                dp[i][j] = 1 + dp[i-1][j-1]\n",
        "            else:\n",
        "                dp[i][j] = max(dp[i-1][j], dp[i][j-1])\n",
        "    return dp[-1][-1]\n"
      ],
      "execution_count": null,
      "outputs": []
    },
    {
      "cell_type": "markdown",
      "metadata": {
        "id": "znZe-yKmUVi8"
      },
      "source": [
        "<br />"
      ]
    },
    {
      "cell_type": "markdown",
      "metadata": {
        "id": "oynKzd-HUWzo"
      },
      "source": [
        "### 3.2 Longest Increasing Subsequence  "
      ]
    },
    {
      "cell_type": "markdown",
      "metadata": {
        "id": "HDG01jarcCSN"
      },
      "source": [
        "**Question**\n",
        "\n",
        "For some sequence, find the longest subsequence that is in increasing order \n",
        "\n",
        "<br />\n",
        "\n",
        "**Pseudocode**\n",
        "\n",
        "initialize N with size of the sequence \n",
        "\n",
        "all elements in N start as 1 (each element is a subsequence of size 1)\n",
        "\n",
        "longest = 0 \n",
        "\n",
        "for i --> 1 to N.length-1 \n",
        "\n",
        "&nbsp;&nbsp;&nbsp;&nbsp;for j --> 0 to i-1 \n",
        "\n",
        "&nbsp;&nbsp;&nbsp;&nbsp;&nbsp;&nbsp;&nbsp;&nbsp;if sequence[i] > sequence[j]\n",
        "\n",
        "&nbsp;&nbsp;&nbsp;&nbsp;&nbsp;&nbsp;&nbsp;&nbsp;&nbsp;&nbsp;&nbsp;&nbsp;$N[i]$ = $max(N[i], N[j]+1)$\n",
        "\n",
        "&nbsp;&nbsp;&nbsp;&nbsp;&nbsp;&nbsp;&nbsp;&nbsp;&nbsp;&nbsp;&nbsp;&nbsp;longest = max(longest, N[i])\n",
        "\n",
        "return longest \n",
        "\n",
        "<br />\n",
        "\n",
        "**Runtime**\n",
        "\n",
        "time: $O(n^2)$"
      ]
    },
    {
      "cell_type": "code",
      "metadata": {
        "id": "Q6Bt5WzJjVNw"
      },
      "source": [
        "def longest_increasing_subsequence(nums):\n",
        "    dp = [1] * len(nums)\n",
        "    longest = 1\n",
        "    \n",
        "    for i in range(1,len(nums)):\n",
        "        for j in range(i):\n",
        "            if nums[i] > nums[j]:\n",
        "                dp[i] = max(dp[i],dp[j]+1)\n",
        "                longest = max(longest,dp[i])\n",
        "    \n",
        "    return longest\n",
        "        "
      ],
      "execution_count": null,
      "outputs": []
    },
    {
      "cell_type": "markdown",
      "metadata": {
        "id": "cCztEES5tQyD"
      },
      "source": [
        "<br />"
      ]
    },
    {
      "cell_type": "markdown",
      "metadata": {
        "id": "Sgzd6rbWtSUJ"
      },
      "source": [
        "### 3.3 Longest Common Contiguous Subsequence\n",
        "\n"
      ]
    },
    {
      "cell_type": "markdown",
      "metadata": {
        "id": "DAqNVio9xbAV"
      },
      "source": [
        "**Question**\n",
        "\n",
        "Similar to Question 3.1, but the subsequence must be contiguous in the original sequence.\n",
        "\n",
        "<br />\n",
        "\n",
        "**Explanation**\n",
        "\n",
        "In Question 3.1, we would pick $N[i][j]$ = $max(N[i-1][j], N[i][j-1])$ when i and j point to different characters. \n",
        "\n",
        "However, this is not the case if the subsequence must be in \"contiguous order\" \n",
        "\n",
        "<br />\n",
        "\n",
        "**Pseudocode**\n",
        "\n",
        "initialize N with zeros (m+1) * (n+1)\n",
        "\n",
        "for i --> 1 to m \n",
        "\n",
        "&nbsp;&nbsp;&nbsp;&nbsp;for j --> 1 to n \n",
        "\n",
        "&nbsp;&nbsp;&nbsp;&nbsp;&nbsp;&nbsp;&nbsp;&nbsp;if i and j point to the same characters \n",
        "\n",
        "&nbsp;&nbsp;&nbsp;&nbsp;&nbsp;&nbsp;&nbsp;&nbsp;&nbsp;&nbsp;&nbsp;&nbsp;$N[i][j]$ = $N[i-1][j-1]+1$ \n",
        "\n",
        "return max(N)"
      ]
    },
    {
      "cell_type": "code",
      "metadata": {
        "id": "wlJndiaT8OlC"
      },
      "source": [
        "def longest_contiguous_subsequence(A, B):\n",
        "    dp = [[0 for _ in range(len(A)+1)] for _ in range(len(B)+1)]\n",
        "    max_length = 0\n",
        "    \n",
        "    for i in range(1,len(A)+1):\n",
        "        for j in range(1,len(B)+1):\n",
        "            if A[i-1] == B[j-1]:\n",
        "                dp[i][j] = dp[i-1][j-1] + 1\n",
        "                max_length = max(max_length, dp[i][j])\n",
        "    return max_length"
      ],
      "execution_count": null,
      "outputs": []
    },
    {
      "cell_type": "markdown",
      "metadata": {
        "id": "0D2-9bVPK5l-"
      },
      "source": [
        "<br />\n",
        "<br />"
      ]
    },
    {
      "cell_type": "markdown",
      "metadata": {
        "id": "hoKJvZMrK66C"
      },
      "source": [
        "## Part 4: Knapsack Problems"
      ]
    },
    {
      "cell_type": "markdown",
      "metadata": {
        "id": "kA4VTMZBK9Tk"
      },
      "source": [
        "### 4.1 Knapsack with Repeats"
      ]
    },
    {
      "cell_type": "markdown",
      "metadata": {
        "id": "SNbwuhdPK_jt"
      },
      "source": [
        "**Question**\n",
        "\n",
        "How do you stuff a knapsack to get the maximum value given a limited weight? Assume there are multiple instances, so we can pick an item multiple times.\n",
        "\n",
        "<br />\n",
        "\n",
        "Assume we have something like \n",
        "\n",
        "item 1 --> weight: 6, value: 30\n",
        "\n",
        "item 2 --> weight: 3, value: 14\n",
        "\n",
        "item 3 --> weight: 4, value: 16\n",
        "\n",
        "item 4 --> weight: 2, value: 9\n",
        "\n",
        "max weight of 11\n",
        "\n",
        "<br />\n",
        "\n",
        "**Explanation**\n",
        "\n",
        "The knapsack question is very similar to the coin change problem.\n",
        "\n",
        "<br />\n",
        "\n",
        "**Recursion**\n",
        "\n",
        "K(w) = $max(v_{i} + K(w-w_{i}))$ for 1 <= i <= n\n",
        "\n",
        "<br />\n",
        "\n",
        "**Pseudocode**\n",
        "\n",
        "initialize K with size w+1 and all values 0\n",
        "\n",
        "for i --> 1 to w \n",
        "\n",
        "&nbsp;&nbsp;&nbsp;&nbsp;for j --> 0 to n-1 \n",
        "\n",
        "&nbsp;&nbsp;&nbsp;&nbsp;&nbsp;&nbsp;&nbsp;&nbsp;$K[i]$ = max($K[i]$, $v_{j}$+$K[i-w_{j}])$\n",
        "\n",
        "&nbsp;&nbsp;&nbsp;&nbsp;&nbsp;&nbsp;&nbsp;&nbsp;// when i-wj is negative, ignore jth item \n",
        "\n"
      ]
    },
    {
      "cell_type": "code",
      "metadata": {
        "id": "de-2qAqLMq4v"
      },
      "source": [
        "def knapsack_repeated(values, weights, max_weight):\n",
        "    dp = [0] * (max_weight+1)\n",
        "    for i in range(1, max_weight+1):\n",
        "        for j in range(len(weights)):\n",
        "            if i-weights[j] >= 0:\n",
        "                dp[i] = max(dp[i], values[j]+dp[i-weights[j]])\n",
        "    return dp[-1]"
      ],
      "execution_count": null,
      "outputs": []
    },
    {
      "cell_type": "markdown",
      "metadata": {
        "id": "YXLZ1ogrUtAt"
      },
      "source": [
        "<br />"
      ]
    },
    {
      "cell_type": "markdown",
      "metadata": {
        "id": "ghZ-XP3eTM3N"
      },
      "source": [
        "### 4.2 Knapsack without Repeats"
      ]
    },
    {
      "cell_type": "markdown",
      "metadata": {
        "id": "6DrWKsPGTQ5D"
      },
      "source": [
        "**Question**\n",
        "\n",
        "This time our knapsack only allows for one instance of each item.\n",
        "\n",
        "<br />\n",
        "\n",
        "**Explanation**\n",
        "\n",
        "This is still very similar to the coin change problem. Take the time to see how they differ.\n",
        "\n",
        "<br />\n",
        "\n",
        "\\begin{align*}\n",
        "K(i,j) = max\\begin{cases}\n",
        "K(i,j-1) \\\\\n",
        "v_{j} + K(i-w_{j}, j-1)\n",
        "\\end{cases}\n",
        "\\end{align*}\n",
        "\n",
        "<br />\n",
        "\n",
        "**Pseudocode**\n",
        "\n",
        "initialize K with zeros--> (w+1) x (n+1)\n",
        "\n",
        "for i --> 1 to w \n",
        "\n",
        "&nbsp;&nbsp;&nbsp;&nbsp;for j --> 1 to n \n",
        "\n",
        "&nbsp;&nbsp;&nbsp;&nbsp;&nbsp;&nbsp;&nbsp;&nbsp;$K[i][j]$ = max($K[i][j-1]$, $v_{j}+N[i-w_{j}][j-1]$)\n",
        "\n",
        "&nbsp;&nbsp;&nbsp;&nbsp;&nbsp;&nbsp;&nbsp;&nbsp;// when i-wj is negative, $K[i][j]$ = $K[i][j-1]$\n"
      ]
    },
    {
      "cell_type": "code",
      "metadata": {
        "id": "mC0V9ShBUh4B"
      },
      "source": [
        "def knapsack_non_repeated(values, weights, max_weight):\n",
        "    dp = [[0 for _ in range(len(weights)+1)] for _ in range(max_weight+1)]\n",
        "    for i in range(1, max_weight+1):\n",
        "        for j in range(1, len(weights)+1):\n",
        "            if i-weights[j-1] < 0:\n",
        "                dp[i][j] = dp[i][j-1]\n",
        "            else:\n",
        "                dp[i][j] = max(dp[i][j-1], values[j-1]+dp[i-weights[j-1]][j])\n",
        "    return dp[-1][-1]  \n"
      ],
      "execution_count": null,
      "outputs": []
    },
    {
      "cell_type": "markdown",
      "metadata": {
        "id": "IbluZz3OTLsQ"
      },
      "source": [
        "<br />"
      ]
    },
    {
      "cell_type": "markdown",
      "metadata": {
        "id": "G1zZ10KHUuYH"
      },
      "source": [
        "### 4.3 Functional Knapsack"
      ]
    },
    {
      "cell_type": "markdown",
      "metadata": {
        "id": "Zk3Th0b0Uw6J"
      },
      "source": [
        "**Question**\n",
        "\n",
        "Still filling in a knapsack, but fractions of items are now allowed. Assume there is only one instance of each item, so once we deplete an item, it's gone. \n",
        "\n",
        "<br />\n",
        "\n",
        "Assume we have something like: \n",
        "\n",
        "item 1 --> weight: 10, value: 60\n",
        "\n",
        "item 2 --> weight: 20, value: 100\n",
        "\n",
        "item 3 --> weight: 30, value: 120\n",
        "\n",
        "max weight: 50 \n",
        "\n",
        "<br />\n",
        "\n",
        "**Solution**\n",
        "\n",
        "For this question, we do not rely on \"dynamic programming\", but on \"greedy algorithms\".\n",
        "\n",
        "<br />\n",
        "\n",
        "The value to weight ratio is :\n",
        "\n",
        "item 1 --> 60/6 = 6\n",
        "\n",
        "item 2 --> 100/20 = 5\n",
        "\n",
        "item 3 --> 120/30 = 4\n",
        "\n",
        "<br />\n",
        "\n",
        "$\\therefore$ we pick item 1 as much as possible, then proceed to the next best choice\n",
        "\n",
        "$\\therefore$ 100% of item 1 + 100% of item 2 + 20/30% of item 3 \n",
        "\n",
        "$\\therefore$ 60 + 100 + 2/3 * 120 = 240 \n",
        "\n"
      ]
    },
    {
      "cell_type": "markdown",
      "metadata": {
        "id": "AoD9hBODNI-S"
      },
      "source": [
        "<br />"
      ]
    }
  ]
}